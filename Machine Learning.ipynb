{
 "cells": [
  {
   "cell_type": "code",
   "execution_count": 13,
   "metadata": {},
   "outputs": [],
   "source": [
    "import pandas as pd\n",
    "from sklearn.model_selection import train_test_split\n",
    "from sklearn.linear_model import LogisticRegression\n",
    "from sklearn import linear_model\n",
    "from sklearn.metrics import accuracy_score"
   ]
  },
  {
   "cell_type": "markdown",
   "metadata": {},
   "source": [
    "* Load all CSV files into DataFrames"
   ]
  },
  {
   "cell_type": "code",
   "execution_count": 4,
   "metadata": {},
   "outputs": [],
   "source": [
    "all_DataframesFile = pd.read_csv(\"all_DataframesFile.csv\")\n",
    "all_DataframesFileByMonth = pd.read_csv(\"all_DataframesFileByMonth.csv\")\n"
   ]
  },
  {
   "cell_type": "code",
   "execution_count": 5,
   "metadata": {},
   "outputs": [
    {
     "data": {
      "text/html": [
       "<div>\n",
       "<style scoped>\n",
       "    .dataframe tbody tr th:only-of-type {\n",
       "        vertical-align: middle;\n",
       "    }\n",
       "\n",
       "    .dataframe tbody tr th {\n",
       "        vertical-align: top;\n",
       "    }\n",
       "\n",
       "    .dataframe thead th {\n",
       "        text-align: right;\n",
       "    }\n",
       "</style>\n",
       "<table border=\"1\" class=\"dataframe\">\n",
       "  <thead>\n",
       "    <tr style=\"text-align: right;\">\n",
       "      <th></th>\n",
       "      <th>tmp_air_max</th>\n",
       "      <th>tmp_air_min</th>\n",
       "      <th>sns_drt</th>\n",
       "      <th>month</th>\n",
       "      <th>rain_yesterday</th>\n",
       "      <th>status</th>\n",
       "    </tr>\n",
       "  </thead>\n",
       "  <tbody>\n",
       "    <tr>\n",
       "      <th>1</th>\n",
       "      <td>19.629032</td>\n",
       "      <td>8.848387</td>\n",
       "      <td>444.0</td>\n",
       "      <td>1</td>\n",
       "      <td>0</td>\n",
       "      <td>False</td>\n",
       "    </tr>\n",
       "    <tr>\n",
       "      <th>2</th>\n",
       "      <td>18.722581</td>\n",
       "      <td>11.364516</td>\n",
       "      <td>339.0</td>\n",
       "      <td>1</td>\n",
       "      <td>0</td>\n",
       "      <td>False</td>\n",
       "    </tr>\n",
       "    <tr>\n",
       "      <th>3</th>\n",
       "      <td>16.651613</td>\n",
       "      <td>11.061290</td>\n",
       "      <td>189.0</td>\n",
       "      <td>1</td>\n",
       "      <td>0</td>\n",
       "      <td>True</td>\n",
       "    </tr>\n",
       "    <tr>\n",
       "      <th>4</th>\n",
       "      <td>14.100000</td>\n",
       "      <td>8.145161</td>\n",
       "      <td>198.0</td>\n",
       "      <td>1</td>\n",
       "      <td>1</td>\n",
       "      <td>True</td>\n",
       "    </tr>\n",
       "    <tr>\n",
       "      <th>5</th>\n",
       "      <td>10.816129</td>\n",
       "      <td>6.751613</td>\n",
       "      <td>0.0</td>\n",
       "      <td>1</td>\n",
       "      <td>1</td>\n",
       "      <td>True</td>\n",
       "    </tr>\n",
       "    <tr>\n",
       "      <th>...</th>\n",
       "      <td>...</td>\n",
       "      <td>...</td>\n",
       "      <td>...</td>\n",
       "      <td>...</td>\n",
       "      <td>...</td>\n",
       "      <td>...</td>\n",
       "    </tr>\n",
       "    <tr>\n",
       "      <th>14514</th>\n",
       "      <td>20.197297</td>\n",
       "      <td>10.175676</td>\n",
       "      <td>450.0</td>\n",
       "      <td>3</td>\n",
       "      <td>0</td>\n",
       "      <td>False</td>\n",
       "    </tr>\n",
       "    <tr>\n",
       "      <th>14515</th>\n",
       "      <td>23.921622</td>\n",
       "      <td>9.232432</td>\n",
       "      <td>490.0</td>\n",
       "      <td>3</td>\n",
       "      <td>1</td>\n",
       "      <td>False</td>\n",
       "    </tr>\n",
       "    <tr>\n",
       "      <th>14516</th>\n",
       "      <td>26.962162</td>\n",
       "      <td>10.910811</td>\n",
       "      <td>590.0</td>\n",
       "      <td>3</td>\n",
       "      <td>0</td>\n",
       "      <td>False</td>\n",
       "    </tr>\n",
       "    <tr>\n",
       "      <th>14517</th>\n",
       "      <td>28.667568</td>\n",
       "      <td>17.224324</td>\n",
       "      <td>180.0</td>\n",
       "      <td>3</td>\n",
       "      <td>1</td>\n",
       "      <td>True</td>\n",
       "    </tr>\n",
       "    <tr>\n",
       "      <th>14518</th>\n",
       "      <td>18.254054</td>\n",
       "      <td>11.372973</td>\n",
       "      <td>20.0</td>\n",
       "      <td>3</td>\n",
       "      <td>1</td>\n",
       "      <td>True</td>\n",
       "    </tr>\n",
       "  </tbody>\n",
       "</table>\n",
       "<p>14518 rows × 6 columns</p>\n",
       "</div>"
      ],
      "text/plain": [
       "       tmp_air_max  tmp_air_min  sns_drt  month  rain_yesterday  status\n",
       "1        19.629032     8.848387    444.0      1               0   False\n",
       "2        18.722581    11.364516    339.0      1               0   False\n",
       "3        16.651613    11.061290    189.0      1               0    True\n",
       "4        14.100000     8.145161    198.0      1               1    True\n",
       "5        10.816129     6.751613      0.0      1               1    True\n",
       "...            ...          ...      ...    ...             ...     ...\n",
       "14514    20.197297    10.175676    450.0      3               0   False\n",
       "14515    23.921622     9.232432    490.0      3               1   False\n",
       "14516    26.962162    10.910811    590.0      3               0   False\n",
       "14517    28.667568    17.224324    180.0      3               1    True\n",
       "14518    18.254054    11.372973     20.0      3               1    True\n",
       "\n",
       "[14518 rows x 6 columns]"
      ]
     },
     "execution_count": 5,
     "metadata": {},
     "output_type": "execute_result"
    }
   ],
   "source": [
    "\n",
    "df_copy=all_DataframesFile.copy()\n",
    "df_copy[\"status\"] = df_copy[\"rain_mm\"]>30 \n",
    "df_copy= df_copy.drop(['rain_yesterday_mm','Change_from_last_day','stations','rain_mm','Date','KinneretInPrecent','year','day','rain_day','Kinneret_Level','rpr_hail','rpr_snow','rpr_gale'],axis=1)\n",
    "df_copy=df_copy.dropna()\n",
    "df_copy['rain_yesterday']=df_copy['rain_yesterday'].astype(int)\n",
    "df_copy"
   ]
  },
  {
   "cell_type": "code",
   "execution_count": 6,
   "metadata": {
    "scrolled": true
   },
   "outputs": [
    {
     "name": "stdout",
     "output_type": "stream",
     "text": [
      "<class 'pandas.core.frame.DataFrame'>\n",
      "Int64Index: 14518 entries, 1 to 14518\n",
      "Data columns (total 6 columns):\n",
      " #   Column          Non-Null Count  Dtype  \n",
      "---  ------          --------------  -----  \n",
      " 0   tmp_air_max     14518 non-null  float64\n",
      " 1   tmp_air_min     14518 non-null  float64\n",
      " 2   sns_drt         14518 non-null  float64\n",
      " 3   month           14518 non-null  int64  \n",
      " 4   rain_yesterday  14518 non-null  int32  \n",
      " 5   status          14518 non-null  bool   \n",
      "dtypes: bool(1), float64(3), int32(1), int64(1)\n",
      "memory usage: 638.0 KB\n"
     ]
    }
   ],
   "source": [
    "df_copy.info()"
   ]
  },
  {
   "cell_type": "code",
   "execution_count": 14,
   "metadata": {
    "scrolled": true
   },
   "outputs": [
    {
     "name": "stdout",
     "output_type": "stream",
     "text": [
      "train_accuracy =  0.9020862035032474\n",
      "test_accuracy =  0.9084022038567493\n",
      "90.84022038567493\n"
     ]
    }
   ],
   "source": [
    "TRAINING_FEATURES = df_copy.columns[df_copy.columns != 'status'] \n",
    "TARGET_FEATURE    = 'status'\n",
    "X = df_copy[TRAINING_FEATURES]\n",
    "y = df_copy[TARGET_FEATURE]\n",
    "X_train, X_test, y_train, y_test = train_test_split(X, y, test_size=0.3)\n",
    "clf_model = LogisticRegression().fit(X_train, y_train)\n",
    "y_pred_train=clf_model.predict(X_train)\n",
    "y_pred=clf_model.predict(X_test)\n",
    "score = clf_model.score(X_test, y_test) * 100\n",
    "print(\"train_accuracy = \",accuracy_score(y_true=y_train, y_pred=y_pred_train)) # Finding the accuracy of the training data percentage\n",
    "print(\"test_accuracy = \",accuracy_score(y_true=y_test, y_pred=y_pred)) # Finding the accuracy of the test data percentages\n",
    "print(score) # Finding the accuracy of the prediction percentages"
   ]
  },
  {
   "cell_type": "code",
   "execution_count": 16,
   "metadata": {},
   "outputs": [
    {
     "name": "stdout",
     "output_type": "stream",
     "text": [
      "Score: 0.41473567328212635\n"
     ]
    }
   ],
   "source": [
    "lr_rain = linear_model.LinearRegression()\n",
    " \n",
    "x = all_DataframesFileByMonth['rain_mm'].values.reshape(all_DataframesFileByMonth['rain_mm'].shape[0],1)\n",
    "y = all_DataframesFileByMonth['Change_from_last_month'].values.reshape(all_DataframesFileByMonth['Change_from_last_month'].shape[0],1)\n",
    "lr_rain.fit(X=x, y=y)\n",
    "print(\"Score:\",lr_rain.score(x,y))"
   ]
  },
  {
   "cell_type": "code",
   "execution_count": 17,
   "metadata": {},
   "outputs": [
    {
     "name": "stdout",
     "output_type": "stream",
     "text": [
      "Score: 0.41920214249323917\n"
     ]
    }
   ],
   "source": [
    "\n",
    "lr_sns = linear_model.LinearRegression()\n",
    "\n",
    "x = all_DataframesFileByMonth[(all_DataframesFileByMonth['sns_drt']>0)]['sns_drt'].values.reshape(all_DataframesFileByMonth[(all_DataframesFileByMonth['sns_drt']>0)]['sns_drt'].shape[0],1)\n",
    "y = all_DataframesFileByMonth[(all_DataframesFileByMonth['sns_drt']>0)]['Change_from_last_month'].values.reshape(all_DataframesFileByMonth[(all_DataframesFileByMonth['sns_drt']>0)]['Change_from_last_month'].shape[0],1)\n",
    "lr_sns.fit(X=x, y=y)\n",
    "print(\"Score:\",lr_sns.score(x,y))"
   ]
  },
  {
   "cell_type": "code",
   "execution_count": 23,
   "metadata": {},
   "outputs": [
    {
     "name": "stdout",
     "output_type": "stream",
     "text": [
      "Score: 0.6175459128618557\n"
     ]
    }
   ],
   "source": [
    "\n",
    "lr = linear_model.LinearRegression()\n",
    "\n",
    "x = all_DataframesFileByMonth[['rain_mm',\"month\",\"sns_drt\"]]\n",
    "y = all_DataframesFileByMonth['Change_from_last_month']\n",
    "lr.fit(X=x, y=y);\n",
    "print(\"Score:\",lr.score(x,y))\n"
   ]
  },
  {
   "cell_type": "code",
   "execution_count": 27,
   "metadata": {},
   "outputs": [
    {
     "name": "stdout",
     "output_type": "stream",
     "text": [
      "Enter the monthly amount of precipitation\n",
      "> 10\n",
      "Insert a month\n",
      "> 8\n",
      "Enter the monthly sunrise time\n",
      "> 5000\n",
      "The level of the Sea of Galilee will down by: [-3.28883335]\n"
     ]
    },
    {
     "name": "stderr",
     "output_type": "stream",
     "text": [
      "C:\\Users\\ezrao\\anaconda3\\lib\\site-packages\\pandas\\core\\indexing.py:670: SettingWithCopyWarning: \n",
      "A value is trying to be set on a copy of a slice from a DataFrame\n",
      "\n",
      "See the caveats in the documentation: https://pandas.pydata.org/pandas-docs/stable/user_guide/indexing.html#returning-a-view-versus-a-copy\n",
      "  iloc._setitem_with_indexer(indexer, value)\n"
     ]
    }
   ],
   "source": [
    "print ('Enter the monthly amount of precipitation')\n",
    "rain = input('> ')\n",
    "print ('Insert a month')\n",
    "month = input('> ')\n",
    "print ('Enter the monthly sunrise time')\n",
    "sns_drt = input('> ')\n",
    "df_empty = x[0:0] \n",
    "df_empty.loc[0]= (rain,month,sns_drt)\n",
    "Level_changes=lr.predict(df_empty.values)\n",
    "if Level_changes>=0: \n",
    "    print(\"The level of the Sea of Galilee will rise by:\",Level_changes)\n",
    "else:\n",
    "    print(\"The level of the Sea of Galilee will down by:\",Level_changes)\n"
   ]
  },
  {
   "cell_type": "markdown",
   "metadata": {},
   "source": [
    "\n",
    "  "
   ]
  }
 ],
 "metadata": {
  "kernelspec": {
   "display_name": "Python 3",
   "language": "python",
   "name": "python3"
  },
  "language_info": {
   "codemirror_mode": {
    "name": "ipython",
    "version": 3
   },
   "file_extension": ".py",
   "mimetype": "text/x-python",
   "name": "python",
   "nbconvert_exporter": "python",
   "pygments_lexer": "ipython3",
   "version": "3.8.5"
  }
 },
 "nbformat": 4,
 "nbformat_minor": 4
}
